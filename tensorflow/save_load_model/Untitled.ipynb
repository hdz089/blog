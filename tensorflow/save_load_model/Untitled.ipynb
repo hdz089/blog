{
 "cells": [
  {
   "cell_type": "markdown",
   "metadata": {},
   "source": [
    "# tensorflow: 保存和加载模型, 参数；以及使用预训练参数方法\n",
    "## 1. 保存与加载模型参数"
   ]
  },
  {
   "cell_type": "code",
   "execution_count": 2,
   "metadata": {},
   "outputs": [],
   "source": [
    "import tensorflow as tf"
   ]
  },
  {
   "cell_type": "markdown",
   "metadata": {},
   "source": [
    "tensorflow的保存和加载是通过tf.train.Saver类实现的, 她的构造函数是\n",
    "```python\n",
    "def \\_\\_init\\_\\_(self,\n",
    "               var_list=None,\n",
    "               reshape=False,\n",
    "               sharded=False,\n",
    "               max_to_keep=5,\n",
    "               keep_checkpoint_every_n_hours=10000.0,\n",
    "               name=None,\n",
    "               restore_sequentially=False,\n",
    "               saver_def=None,\n",
    "               builder=None,\n",
    "               defer_build=False,\n",
    "               allow_empty=False,\n",
    "               write_version=saver_pb2.SaverDef.V2,\n",
    "               pad_step_number=False,\n",
    "               save_relative_paths=False):\n",
    "```\n",
    "其中\n",
    "- var_list: 要保存/恢复的变量列表，or dict of names to variables. 如果为空，则默认所有的变量\n",
    "- reshape: 当shape不一样时是否允许恢复参数\n",
    "- sharded: if True, instructs the saver to shard checkpoints per device.\n",
    "- max_to_keep: 最多保存的checkpoints. Defaults to 5. checkpoints的区分在save时传递的**global_step**参数，用来表示第几次迭代。\n",
    "- keep_checkpoint_every_n_hours: How often to keep checkpoints. 每几个hour保留一个checkpoint\n",
    "- .....\n",
    "\n",
    "**保存：saver.save(session, saved_path, global_step=None)**\n",
    "\n",
    "**恢复：saver.restore(session, saved_path)**\n",
    "保存的文件有四种：\n",
    "1. checkpoint，保存最近保存的模型的文件名，因此我们能够知道最近的模型名，可以通过调用tf.train.latest_checkpoint(dir)获知\n",
    "2. .meta 图的结构，变量等信息\n",
    "3. .data 参数值\n",
    "4. .index 索引文件\n",
    "\n",
    "使用示例："
   ]
  },
  {
   "cell_type": "code",
   "execution_count": 6,
   "metadata": {},
   "outputs": [
    {
     "name": "stdout",
     "output_type": "stream",
     "text": [
      "v1 [ 1.88005733 -0.99327284 -1.19482517 -0.46593472 -0.1329312  -1.63472843]\n",
      "v2 [-1.03660548 -1.61874151 -1.5886656   0.45553902 -1.24812245 -0.90952981]\n"
     ]
    }
   ],
   "source": [
    "tf.reset_default_graph()\n",
    "v1=tf.get_variable('v1', shape=[6], dtype=tf.float32, initializer=tf.truncated_normal_initializer())\n",
    "v2=tf.get_variable('v2', shape=[6], dtype=tf.float32, initializer=tf.random_normal_initializer())\n",
    "\n",
    "saver=tf.train.Saver()\n",
    "\n",
    "with tf.Session() as sess:\n",
    "    sess.run(tf.global_variables_initializer())\n",
    "    print('v1', sess.run(v1))\n",
    "    print('v2', sess.run(v2))\n",
    "    saver.save(sess, 'save/model')"
   ]
  },
  {
   "cell_type": "code",
   "execution_count": 11,
   "metadata": {},
   "outputs": [
    {
     "name": "stdout",
     "output_type": "stream",
     "text": [
      "INFO:tensorflow:Restoring parameters from save/model\n"
     ]
    },
    {
     "name": "stderr",
     "output_type": "stream",
     "text": [
      "INFO:tensorflow:Restoring parameters from save/model\n"
     ]
    },
    {
     "name": "stdout",
     "output_type": "stream",
     "text": [
      "v1 [ 1.88005733 -0.99327284 -1.19482517 -0.46593472 -0.1329312  -1.63472843]\n",
      "v2 [-1.03660548 -1.61874151 -1.5886656   0.45553902 -1.24812245 -0.90952981]\n"
     ]
    }
   ],
   "source": [
    "tf.reset_default_graph()\n",
    "v1=tf.get_variable('v1', shape=[6], dtype=tf.float32, initializer=tf.truncated_normal_initializer())\n",
    "v2=tf.get_variable('v2', shape=[6], dtype=tf.float32, initializer=tf.random_normal_initializer())\n",
    "\n",
    "saver=tf.train.Saver()\n",
    "\n",
    "with tf.Session() as sess:\n",
    "    saver.restore(sess, tf.train.latest_checkpoint('save/'))\n",
    "    print('v1', sess.run(v1))\n",
    "    print('v2', sess.run(v2))\n",
    "    "
   ]
  },
  {
   "cell_type": "markdown",
   "metadata": {},
   "source": [
    "至此，我们可以简单使用。但是当我们需要加载模型的时候呢，可以使用tf.train.import_meta_graph(), tensor获取通过tf.get_default_graph().get_tensor_by_name('')  （不过一般我们都会有原来图的代码，所以一般不会用到。）"
   ]
  },
  {
   "cell_type": "code",
   "execution_count": 3,
   "metadata": {},
   "outputs": [
    {
     "name": "stdout",
     "output_type": "stream",
     "text": [
      "INFO:tensorflow:Restoring parameters from save/model\n",
      "[ 1.88005733 -0.99327284 -1.19482517 -0.46593472 -0.1329312  -1.63472843]\n"
     ]
    }
   ],
   "source": [
    "tf.reset_default_graph()\n",
    "tf.train.import_meta_graph('save/model.meta')\n",
    "saver=tf.train.Saver()\n",
    "with tf.Session() as sess:\n",
    "    saver.restore(sess, 'save/model')\n",
    "    print(sess.run(tf.get_default_graph().get_tensor_by_name(\"v1:0\")))"
   ]
  },
  {
   "cell_type": "markdown",
   "metadata": {},
   "source": [
    "介绍完基本使用，接下来如果我们的模型只有一部分是要加载参数时"
   ]
  },
  {
   "cell_type": "code",
   "execution_count": 6,
   "metadata": {
    "scrolled": false
   },
   "outputs": [],
   "source": [
    "tf.reset_default_graph()\n",
    "v1=tf.get_variable('v1', shape=[6], dtype=tf.float32, initializer=tf.truncated_normal_initializer())\n",
    "v2=tf.get_variable('v2', shape=[6], dtype=tf.float32, initializer=tf.random_normal_initializer())\n",
    "v2=tf.get_variable('v3', shape=[6], dtype=tf.float32, initializer=tf.random_normal_initializer())\n",
    "\n",
    "saver=tf.train.Saver()\n",
    "\n",
    "with tf.Session() as sess:\n",
    "    saver.restore(sess, tf.train.latest_checkpoint('save/'))\n",
    "    print('v1', sess.run(v1))\n",
    "    print('v2', sess.run(v2))"
   ]
  },
  {
   "cell_type": "markdown",
   "metadata": {},
   "source": [
    "这个时候会报NotFoundError (see above for traceback): Key v3 not found in checkpoint\n",
    "解决办法就是saver初始化要加上要保存的参数列表："
   ]
  },
  {
   "cell_type": "code",
   "execution_count": 9,
   "metadata": {
    "scrolled": true
   },
   "outputs": [
    {
     "name": "stdout",
     "output_type": "stream",
     "text": [
      "v1 [ 0.39415926  0.24765804  1.26394165  0.62132704  1.0527215   1.55297732]\n",
      "v2 [ 0.56525308  1.07240736 -0.15881526 -1.1062392  -0.76180184  1.05873036]\n",
      "INFO:tensorflow:Restoring parameters from save/model\n",
      "v1 [ 0.39415926  0.24765804  1.26394165  0.62132704  1.0527215   1.55297732]\n",
      "v2 [ 0.56525308  1.07240736 -0.15881526 -1.1062392  -0.76180184  1.05873036]\n"
     ]
    }
   ],
   "source": [
    "tf.reset_default_graph()\n",
    "v1=tf.get_variable('v1', shape=[6], dtype=tf.float32, initializer=tf.truncated_normal_initializer())\n",
    "v2=tf.get_variable('v2', shape=[6], dtype=tf.float32, initializer=tf.random_normal_initializer())\n",
    "v2=tf.get_variable('v3', shape=[6], dtype=tf.float32, initializer=tf.random_normal_initializer())\n",
    "\n",
    "saver=tf.train.Saver([v1, v2])\n",
    "\n",
    "with tf.Session() as sess:\n",
    "    sess.run(tf.global_variables_initializer())\n",
    "    print('v1', sess.run(v1))\n",
    "    print('v2', sess.run(v2))\n",
    "    saver.save(sess, 'save/model')\n",
    "    saver.restore(sess, tf.train.latest_checkpoint('save/'))\n",
    "    print('v1', sess.run(v1))\n",
    "    print('v2', sess.run(v2))"
   ]
  },
  {
   "cell_type": "markdown",
   "metadata": {},
   "source": [
    "现在，当我们想要预训练的时候，就可以将预训练的相关参数放在列表中，然后保存。"
   ]
  }
 ],
 "metadata": {
  "kernelspec": {
   "display_name": "Python 3",
   "language": "python",
   "name": "python3"
  },
  "language_info": {
   "codemirror_mode": {
    "name": "ipython",
    "version": 3
   },
   "file_extension": ".py",
   "mimetype": "text/x-python",
   "name": "python",
   "nbconvert_exporter": "python",
   "pygments_lexer": "ipython3",
   "version": "3.6.3"
  }
 },
 "nbformat": 4,
 "nbformat_minor": 2
}
