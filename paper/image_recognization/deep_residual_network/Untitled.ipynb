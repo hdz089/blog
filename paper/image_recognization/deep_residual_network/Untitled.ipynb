{
 "cells": [
  {
   "cell_type": "markdown",
   "metadata": {},
   "source": [
    "# 深度残差网络的代码实现\n",
    "深度残差网络是中微软kaiming he等提出的，在ILSVRC 2015中的classification，detection，localization任务取得了冠军，且在COCO比赛上也夺冠【[论文](https://arxiv.org/abs/1512.03385)】。在这里对深度残差网络使用keras实现，这里使用的数据集是notmnist，字母A-J，十个字母的识别。(数据集小，渣渣笔记本上运行)\n",
    "## 1. 读取数据"
   ]
  },
  {
   "cell_type": "code",
   "execution_count": 2,
   "metadata": {
    "collapsed": true
   },
   "outputs": [],
   "source": [
    "import os\n",
    "import numpy as np\n",
    "import cv2\n",
    "import matplotlib.pyplot as plt\n",
    "import tqdm"
   ]
  },
  {
   "cell_type": "code",
   "execution_count": 3,
   "metadata": {},
   "outputs": [
    {
     "name": "stdout",
     "output_type": "stream",
     "text": [
      "complete!\n"
     ]
    },
    {
     "data": {
      "image/png": "[encoded data removed]",
      "text/plain": [
       "<matplotlib.figure.Figure at 0x27640f056a0>"
      ]
     },
     "metadata": {},
     "output_type": "display_data"
    }
   ],
   "source": [
    "train_path='../datasets/notmnist/notMNIST_large/'\n",
    "test_path='../datasets/notmnist/notMNIST_small/'\n",
    "img_size=28\n",
    "num_channels=3\n",
    "\n",
    "# 读取文件夹图像\n",
    "def read_letters(folder, size=None):\n",
    "    image_names=os.listdir(folder,)\n",
    "    images=[]\n",
    "    for index, img_name in enumerate(image_names):\n",
    "        if size and index>size-1: break\n",
    "        image=cv2.imread(folder+img_name)\n",
    "        if not image is None: \n",
    "            images.append(image)\n",
    "    return np.array(images)\n",
    "\n",
    "A=read_letters(train_path+'A/', 100)\n",
    "print('complete!')\n",
    "plt.imshow(A[66])\n",
    "plt.show()"
   ]
  },
  {
   "cell_type": "code",
   "execution_count": 4,
   "metadata": {},
   "outputs": [
    {
     "name": "stderr",
     "output_type": "stream",
     "text": [
      "10it [01:26,  8.63s/it]\n"
     ]
    },
    {
     "name": "stdout",
     "output_type": "stream",
     "text": [
      "(10000, 28, 28, 3) (10000,)\n"
     ]
    }
   ],
   "source": [
    "def concate(x, x_):\n",
    "    if not x is None: \n",
    "        x=np.concatenate([x, x_], axis=0)\n",
    "    else: x=x_\n",
    "    return x\n",
    "\n",
    "def get_data(train_size=None, test_size=None):\n",
    "    letters=['A', 'B','C','D','E','F','G','H','I','J']\n",
    "    x_train=y_train=x_test=y_test=None\n",
    "    for index, letter in tqdm.tqdm(enumerate(letters)):\n",
    "        x_=read_letters(train_path+letter+'/', train_size)\n",
    "        x_train=concate(x_train, x_)\n",
    "        y_=np.ndarray([x_.shape[0]], dtype=np.uint8)\n",
    "        y_[:]=index\n",
    "        y_train=concate(y_train, y_) \n",
    "        x_=read_letters(test_path+letter+'/', test_size)\n",
    "        x_test=concate(x_test, x_)\n",
    "        y_=np.ndarray([x_.shape[0]], dtype=np.uint8)\n",
    "        y_[:]=index\n",
    "        y_test=concate(y_test, y_)\n",
    "    return x_train, y_train, x_test, y_test\n",
    "    \n",
    "'''for train fast, here i use 1000 training samples per category and 200 test samples'''\n",
    "x_train, y_train, x_test, y_test = get_data(1000, 200)\n",
    "\n",
    "print(x_train.shape,y_train.shape)\n",
    "\n",
    "#from sklearn.model_selection import train_test_split\n",
    "#train_test_split()"
   ]
  },
  {
   "cell_type": "code",
   "execution_count": 5,
   "metadata": {},
   "outputs": [
    {
     "name": "stderr",
     "output_type": "stream",
     "text": [
      "Using TensorFlow backend.\n"
     ]
    }
   ],
   "source": [
    "# pre process\n",
    "import keras\n",
    "\n",
    "y_train=keras.utils.to_categorical(y_train, num_classes=10)\n",
    "y_test=keras.utils.to_categorical(y_test, num_classes=10)"
   ]
  },
  {
   "cell_type": "code",
   "execution_count": 23,
   "metadata": {},
   "outputs": [
    {
     "data": {
      "image/png": "[encoded data removed]",
      "text/plain": [
       "<matplotlib.figure.Figure at 0x27646645908>"
      ]
     },
     "metadata": {},
     "output_type": "display_data"
    },
    {
     "name": "stdout",
     "output_type": "stream",
     "text": [
      "[ 0.  1.  0.  0.  0.  0.  0.  0.  0.  0.]\n"
     ]
    }
   ],
   "source": [
    "perm=np.random.permutation(x_train.shape[0])\n",
    "x_train=x_train[perm]\n",
    "y_train=y_train[perm]\n",
    "\n",
    "plt.imshow(x_train[8])\n",
    "plt.show()\n",
    "print(y_train[8])"
   ]
  },
  {
   "cell_type": "markdown",
   "metadata": {},
   "source": [
    "## 2. 建立一个简单模型测试"
   ]
  },
  {
   "cell_type": "code",
   "execution_count": 24,
   "metadata": {
    "collapsed": true
   },
   "outputs": [],
   "source": [
    "import keras\n",
    "from keras.models import Sequential, Model\n",
    "from keras.layers import Conv2D, MaxPooling2D, Flatten, Dense, BatchNormalization, Activation, Input, AveragePooling2D, Add\n",
    "from keras.optimizers import Adam, rmsprop\n",
    "from keras.callbacks import EarlyStopping"
   ]
  },
  {
   "cell_type": "code",
   "execution_count": 26,
   "metadata": {
    "scrolled": false
   },
   "outputs": [],
   "source": [
    "conv_model=Sequential()\n",
    "conv_model.add(Conv2D(8, (3, 3), strides=(1, 1), padding='same', activation='relu', input_shape=(img_size, img_size, num_channels)))\n",
    "conv_model.add(Conv2D(16, (3, 3), strides=(1, 1), padding='same', activation='relu'))\n",
    "conv_model.add(Conv2D(32, (3, 3), strides=(1, 1), padding='same', activation='relu'))\n",
    "conv_model.add(MaxPooling2D(pool_size=2))\n",
    "conv_model.add(Flatten())\n",
    "conv_model.add(Dense(100, activation='relu'))\n",
    "conv_model.add(Dense(10, activation='softmax'))\n",
    "\n",
    "conv_model.compile(optimizer='rmsprop', loss='categorical_crossentropy', metrics=['accuracy'])\n",
    "early_stopper=EarlyStopping(patience=30)\n",
    "conv_model.fit(x_train, y_train, validation_data=(x_test, y_test), batch_size=1000, epochs=10, verbose=2, shuffle=True, \n",
    "              callbacks=[early_stopper])"
   ]
  },
  {
   "cell_type": "markdown",
   "metadata": {},
   "source": [
    "## 3. 深度卷积网络实现\n",
    "A building block:\n",
    "![residual](./images/20180213180857.png)\n",
    "我们的目标是构建这样的块，一共有两种，一种恒等映射，x; 一种非恒等，就是输入和输出的维度不一样，需要对输入进行变换wx。 （**identity & projection** shortcut） \n",
    "### (1) identity shorcut\n",
    "层顺序：conv2d -> BN -> relu，可以是任意层，注意最后一个层要残差链接后再激活函数relu输出"
   ]
  },
  {
   "cell_type": "code",
   "execution_count": 27,
   "metadata": {
    "collapsed": true
   },
   "outputs": [],
   "source": [
    "# x：输入，filters：卷积核数，kernelsize：核大小\n",
    "def identity_shortcut(x, filters, kernel_sizes):\n",
    "    last=x\n",
    "    for i, f in enumerate(filters):\n",
    "        last=Conv2D(f, kernel_sizes[i], strides=(1, 1), padding='same')(last)\n",
    "        last=BatchNormalization()(last)\n",
    "        if i<len(filters)-1: last=Activation('relu')(last)\n",
    "    #return Activation('relu')(x+last)\n",
    "    return Activation('relu')(Add()([x, last]))"
   ]
  },
  {
   "cell_type": "markdown",
   "metadata": {},
   "source": [
    "### (2) projection shortcut\n",
    "与identity shortcut不一样的有两点：\n",
    "- projection中的第一层可能需要做downsampling，即stride为2\n",
    "- 最后一层残差连接，因为维度不一样，要对输入做投射到相同维度；因为经过第一层的downsampling，feature map 边大小减半。所以连接时对x(输入)做卷积操作，步数为2，核大小1,核数等于最后一层核数。 \n",
    "\n",
    "(**详细在代码或论文中展示** "
   ]
  },
  {
   "cell_type": "code",
   "execution_count": 28,
   "metadata": {
    "collapsed": true
   },
   "outputs": [],
   "source": [
    "def projection_shortcut(x, filters, kernel_sizes, strides=(2, 2), proj_strides=(2, 2)):\n",
    "    last=x\n",
    "    for i, f in enumerate(filters):\n",
    "        if i==0: last=Conv2D(f, kernel_sizes[i], strides=strides, padding='same')(last)\n",
    "        else: last=Conv2D(f, kernel_sizes[i], strides=(1, 1), padding='same')(last)\n",
    "        last=BatchNormalization()(last)\n",
    "        if i<len(filters)-1: last=Activation('relu')(last)\n",
    "    x= Conv2D(filters[-1], (1, 1), strides=proj_strides)(x)\n",
    "    x=BatchNormalization()(x)\n",
    "    return Activation('relu')(Add()([x, last]))"
   ]
  },
  {
   "cell_type": "markdown",
   "metadata": {},
   "source": [
    "ps: 这里犯了个错误，因为对keras算刚接触不久，后面的model代码报错：*'Tensor' object has no attribute '_keras_history'* ，最后发现是+法的错，在keras中不能直接相加，应该是keras中应该需要记录(\\_keras_history), 所以不支持直接相加，减法，乘法等)\n",
    "https://stackoverflow.com/questions/45030966/attributeerrortensor-object-has-no-attribute-keras-history 中：\n",
    "\n",
    "> The problem lied in the fact that using every tf operation should be encapsulated by either:\n",
    "> 1. Using keras.backend functions,\n",
    "> 2. Lambda layers,\n",
    "> 3. Designated keras functions with the same behavior.\n",
    "\n",
    "> When you are using tf operation - you are getting tf tensor object which doesn't have history field. When you use keras functions you will get keras.tensors.\n",
    "\n",
    "所以是因为+操作返回了tensorflow的tensor，从而没有history field。"
   ]
  },
  {
   "cell_type": "markdown",
   "metadata": {},
   "source": [
    "### (3) model details\n",
    "论文中网络有5个，分别为18，34，50，101和152层，具体如下表(表中后三个网络的第一个卷积层核数为256)：\n",
    "![networks](./images/20180213225351.png)\n",
    "有了两个函数后就只需跟着表建立即可，用到projection shortcut的是conv3_1, conv4_1, conv5_1。\n",
    "下面将实现50-layer："
   ]
  },
  {
   "cell_type": "code",
   "execution_count": 29,
   "metadata": {
    "scrolled": true
   },
   "outputs": [
    {
     "name": "stdout",
     "output_type": "stream",
     "text": [
      "(?, 14, 14, 256)\n",
      "(?, 7, 7, 256)\n",
      "(?, ?)\n"
     ]
    }
   ],
   "source": [
    "inp=Input(shape=(img_size, img_size, num_channels))\n",
    "\n",
    "# out=Flatten()(inp)\n",
    "# print(out.shape)\n",
    "# model=Model(inputs=inp, outputs=out)\n",
    "\n",
    "out=Conv2D(256, 7, strides=2, padding='same')(inp)\n",
    "print(out.shape)\n",
    "out=BatchNormalization()(out)\n",
    "out=Activation('relu')(out)\n",
    "out=MaxPooling2D(pool_size=(3, 3), strides=2, padding='same')(out)\n",
    "print(out.shape)\n",
    "\n",
    "out=identity_shortcut(out, [64, 64, 256], [1, 3, 1])\n",
    "out=identity_shortcut(out, [64, 64, 256], [1, 3, 1])\n",
    "out=identity_shortcut(out, [64, 64, 256], [1, 3, 1])\n",
    "\n",
    "out=projection_shortcut(out, [128, 128, 512], [1, 3, 1])\n",
    "out=identity_shortcut(out, [128, 128, 512], [1, 3, 1])\n",
    "out=identity_shortcut(out, [128, 128, 512], [1, 3, 1])\n",
    "out=identity_shortcut(out, [128, 128, 512], [1, 3, 1])\n",
    "\n",
    "out=projection_shortcut(out, [256, 256, 1024], [1, 3, 1])\n",
    "out=identity_shortcut(out, [256, 256, 1024], [1, 3, 1])\n",
    "out=identity_shortcut(out, [256, 256, 1024], [1, 3, 1])\n",
    "out=identity_shortcut(out, [256, 256, 1024], [1, 3, 1])\n",
    "out=identity_shortcut(out, [256, 256, 1024], [1, 3, 1])\n",
    "out=identity_shortcut(out, [256, 256, 1024], [1, 3, 1])\n",
    "\n",
    "out=projection_shortcut(out, [512, 512, 2048], [1, 3, 1])\n",
    "out=identity_shortcut(out, [512, 512, 2048], [1, 3, 1])\n",
    "out=identity_shortcut(out, [512, 512, 2048], [1, 3, 1])\n",
    "\n",
    "out=AveragePooling2D(padding='same')(out)\n",
    "out=Flatten()(out)\n",
    "print(out.shape)\n",
    "out=Dense(10, activation='softmax')(out)\n",
    "model=Model(inputs=inp, outputs=out)"
   ]
  },
  {
   "cell_type": "code",
   "execution_count": null,
   "metadata": {},
   "outputs": [
    {
     "name": "stdout",
     "output_type": "stream",
     "text": [
      "Train on 10000 samples, validate on 2000 samples\n",
      "Epoch 1/100\n",
      " - 1561s - loss: 3.4706 - acc: 0.1152 - val_loss: 4.4505 - val_acc: 0.1410\n",
      "Epoch 2/100\n"
     ]
    }
   ],
   "source": [
    "model.compile(optimizer='rmsprop', loss='categorical_crossentropy', metrics=['accuracy'])\n",
    "early_stopper=EarlyStopping(patience=10)\n",
    "model.fit(x_train, y_train, validation_data=(x_test, y_test), batch_size=1000, epochs=100, verbose=2, shuffle=True, \n",
    "               callbacks=[early_stopper])"
   ]
  },
  {
   "cell_type": "markdown",
   "metadata": {},
   "source": [
    "***\n",
    "至此，深度卷积神经网络的框架就实现了，不过论文中的数据增强，crops，ensemble等就没有去做实现。"
   ]
  }
 ],
 "metadata": {
  "kernelspec": {
   "display_name": "Python 3",
   "language": "python",
   "name": "python3"
  },
  "language_info": {
   "codemirror_mode": {
    "name": "ipython",
    "version": 3
   },
   "file_extension": ".py",
   "mimetype": "text/x-python",
   "name": "python",
   "nbconvert_exporter": "python",
   "pygments_lexer": "ipython3",
   "version": "3.6.2"
  }
 },
 "nbformat": 4,
 "nbformat_minor": 2
}
